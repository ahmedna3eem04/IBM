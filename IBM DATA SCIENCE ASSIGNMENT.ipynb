{
 "cells": [
  {
   "cell_type": "markdown",
   "id": "2a3bec38-6fde-4440-af5a-a73608cdb7f9",
   "metadata": {},
   "source": [
    "# **IBM DATA SCIENCE ASSIGNMENT**\n"
   ]
  },
  {
   "cell_type": "markdown",
   "id": "94b4b4d6-fb7c-4e7d-9727-a2e9e65080dc",
   "metadata": {},
   "source": [
    "**Introduction**\n",
    "In this notebook, we will explore various tools, libraries, and languages used in the field of Data Science. We will also practice basic arithmetic operations using Python."
   ]
  },
  {
   "cell_type": "markdown",
   "id": "105c44f0-82f5-4ca1-8f93-2d286ecfe9a0",
   "metadata": {},
   "source": [
    "**Languages Used in Data Science**\n",
    "- Python\n",
    "\n",
    "- R\n",
    "\n",
    "- SQL\n",
    "\n",
    "- Julia\n",
    "\n",
    "- Scala"
   ]
  },
  {
   "cell_type": "markdown",
   "id": "00ce128a-85f7-4b8c-ac2f-0d9388d074bf",
   "metadata": {},
   "source": [
    "**Common Libraries Used in Data Science**\n",
    "- Pandas\n",
    "\n",
    "- NumPy\n",
    "\n",
    "- Matplotlib\n",
    "\n",
    "- Scikit-learn\n",
    "\n",
    "- TensorFlow"
   ]
  },
  {
   "cell_type": "markdown",
   "id": "b19edfd3-d587-4652-89de-5b921bf45a7f",
   "metadata": {},
   "source": [
    "**Tools of Data Science**\n",
    "\n",
    "| Tool            | Description                    |\n",
    "|-----------------|---------------------------------|\n",
    "| Jupyter Notebook| Interactive computing environment |\n",
    "| RStudio         | IDE for R programming           |\n",
    "| Apache Spark    | Big data processing engine      |\n",
    "| TensorFlow      | Machine learning framework      |\n",
    "| Tableau         | Data visualization tool         |\n"
   ]
  },
  {
   "cell_type": "markdown",
   "id": "c230834c-ae06-4897-90c4-f92a35b7b096",
   "metadata": {},
   "source": [
    "**Examples of Arithmetic Expressions**\n",
    "We can perform operations like addition, subtraction, multiplication, and division using Python."
   ]
  },
  {
   "cell_type": "code",
   "execution_count": 28,
   "id": "e125e18d-5974-453b-a44c-2133961e061d",
   "metadata": {},
   "outputs": [
    {
     "name": "stdout",
     "output_type": "stream",
     "text": [
      "The result is: 17\n"
     ]
    }
   ],
   "source": [
    "\n",
    "result = (3 * 4) + 5\n",
    "print(\"The result is:\", result)\n"
   ]
  },
  {
   "cell_type": "code",
   "execution_count": 30,
   "id": "1a042de6-7749-40e0-bc6f-2e9e1e52a571",
   "metadata": {},
   "outputs": [
    {
     "name": "stdout",
     "output_type": "stream",
     "text": [
      "150 minutes is equal to 2.5 hours.\n"
     ]
    }
   ],
   "source": [
    "minutes = 150\n",
    "hours = minutes / 60\n",
    "print(f\"{minutes} minutes is equal to {hours} hours.\")"
   ]
  },
  {
   "cell_type": "markdown",
   "id": "0acf73db-61d0-4830-ae8e-b014072cb3c1",
   "metadata": {},
   "source": [
    "**Objectives**\n",
    "- List popular languages for Data Science\n",
    "\n",
    "- List commonly used libraries\n",
    "\n",
    "- Create and format markdown cells\n",
    "\n",
    "- Perform basic arithmetic operations in Python"
   ]
  },
  {
   "cell_type": "markdown",
   "id": "c392f168-db72-42d2-9755-19c134dfccce",
   "metadata": {},
   "source": [
    "# **Ahmed Hossam**\n"
   ]
  },
  {
   "cell_type": "code",
   "execution_count": null,
   "id": "5d76fb15-eefc-401f-80dd-ecbfacccfe76",
   "metadata": {},
   "outputs": [],
   "source": []
  }
 ],
 "metadata": {
  "kernelspec": {
   "display_name": "Python [conda env:base] *",
   "language": "python",
   "name": "conda-base-py"
  },
  "language_info": {
   "codemirror_mode": {
    "name": "ipython",
    "version": 3
   },
   "file_extension": ".py",
   "mimetype": "text/x-python",
   "name": "python",
   "nbconvert_exporter": "python",
   "pygments_lexer": "ipython3",
   "version": "3.12.7"
  }
 },
 "nbformat": 4,
 "nbformat_minor": 5
}
